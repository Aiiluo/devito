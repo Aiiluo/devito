{
 "cells": [
  {
   "cell_type": "markdown",
   "metadata": {},
   "source": [
    "## Reaction-diffusion model\n",
    "\n",
    "The aim of this notebook is to provide insight with devito into so-called reaction-diffusion models. These are problems which, intuitively, involve some reaction that occurs, and results in some form of diffusion.\n",
    "\n",
    "This may sound initially vague, but has a variety of application that illustrate its meaning. The first of these is cell multiplication -- the cell population will diffuse outwards, following the reaction of duplication which individual cells undergo.\n",
    "\n",
    "This problem is an answer to Lorena Barba's reaction-diffusion notebook which can be found <a href=\"https://github.com/numerical-mooc/numerical-mooc/blob/master/lessons/04_spreadout/04_06_Reaction_Diffusion.ipynb\">here</a>. Like our CFD examples, we start by setting up the problem, and will then create a quick and easy Devito solution to it.\n",
    "\n",
    "We start by introducing the problem.\n",
    "\n",
    "#### The problem ####\n",
    "\n",
    "<ul>\n",
    "    <li> Discretize the reaction-diffusion equations using forward-time/central-space and assume that $$ \\Delta x = \\Delta y = \\delta $$\n",
    "    <li> For our timestep, set $$ \\Delta t = \\frac{9}{40} \\frac{\\delta ^ 2}{max(D_u, D_v)} $$\n",
    "    <li> Use zero Neumann boundary conditions on all sides of the domain.\n",
    "</ul>\n",
    "\n",
    "The initial conditions and constants we are given are listed in the cell below, and correspond to the domain:\n",
    "\n",
    "<ul>\n",
    "    <li> A grid with dimensions 192 $ \\times $ 192 points\n",
    "    <li> Domain is the 5 m $ \\times $ 5 m\n",
    "    <li> Final time is 8000 s\n",
    "</ul>"
   ]
  },
  {
   "cell_type": "code",
   "execution_count": 9,
   "metadata": {
    "collapsed": true
   },
   "outputs": [],
   "source": [
    "import numpy\n",
    "from matplotlib import pyplot\n",
    "import matplotlib.cm as cm\n",
    "%matplotlib inline"
   ]
  },
  {
   "cell_type": "code",
   "execution_count": 10,
   "metadata": {
    "collapsed": true
   },
   "outputs": [],
   "source": [
    "n = 192\n",
    "\n",
    "Du, Dv, F, k = 0.00016, 0.00008, 0.035, 0.065 # Bacteria 1 \n",
    "\n",
    "dh = 5/(n-1)\n",
    "\n",
    "T = 8000\n",
    "\n",
    "dt = .9 * dh**2 / (4*max(Du,Dv))\n",
    "\n",
    "nt = int(T/dt)"
   ]
  },
  {
   "cell_type": "markdown",
   "metadata": {},
   "source": [
    "#### Initial Conditions ####\n",
    "\n",
    "Also given to us in the problem is the initial conditions which contains two numpy arrays which hold the initial values for `U` and `V`, respectively."
   ]
  },
  {
   "cell_type": "code",
   "execution_count": null,
   "metadata": {
    "collapsed": true
   },
   "outputs": [],
   "source": [
    "uvinitial = numpy.load('./data/uvinitial.npz')\n",
    "U = uvinitial['U']\n",
    "V = uvinitial['V']"
   ]
  },
  {
   "cell_type": "code",
   "execution_count": null,
   "metadata": {
    "collapsed": true
   },
   "outputs": [],
   "source": [
    "fig = pyplot.figure(figsize=(8,5))\n",
    "pyplot.subplot(121)\n",
    "pyplot.imshow(U, cmap = cm.RdBu)\n",
    "pyplot.xticks([]), pyplot.yticks([]);\n",
    "pyplot.subplot(122)\n",
    "pyplot.imshow(V, cmap = cm.RdBu)\n",
    "pyplot.xticks([]), pyplot.yticks([]);"
   ]
  },
  {
   "cell_type": "markdown",
   "metadata": {},
   "source": [
    "#### Devito Implementation ####\n",
    "\n"
   ]
  }
 ],
 "metadata": {
  "kernelspec": {
   "display_name": "Python 3",
   "language": "python",
   "name": "python3"
  },
  "language_info": {
   "codemirror_mode": {
    "name": "ipython",
    "version": 3
   },
   "file_extension": ".py",
   "mimetype": "text/x-python",
   "name": "python",
   "nbconvert_exporter": "python",
   "pygments_lexer": "ipython3",
   "version": "3.6.1"
  }
 },
 "nbformat": 4,
 "nbformat_minor": 2
}
