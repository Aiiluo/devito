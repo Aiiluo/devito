{
 "cells": [
  {
   "cell_type": "markdown",
   "metadata": {},
   "source": [
    "## Reaction-diffusion model\n",
    "\n",
    "The aim of this notebook is to provide insight with devito into so-called reaction-diffusion models. These are problems which, intuitively, involve some reaction that occurs, and results in some form of diffusion.\n",
    "\n",
    "This may sound initially vague, but has a variety of application that illustrate its meaning. The first of these is cell multiplication -- the cell population will diffuse outwards, following the reaction of duplication which individual cells undergo.\n",
    "\n",
    "This problem is an answer to Lorena Barba's reaction-diffusion notebook which can be found <a href=\"https://github.com/numerical-mooc/numerical-mooc/blob/master/lessons/04_spreadout/04_06_Reaction_Diffusion.ipynb\">here</a>. Like our CFD examples, we start by setting up the problem, and will then create a quick and easy Devito solution to it.\n",
    "\n",
    "We start by introducing the problem.\n",
    "\n",
    "#### The problem ####\n",
    "\n",
    "<ul>\n",
    "    <li> Discretize the reaction-diffusion equations using forward-time/central-space and assume that $$ \\Delta x = \\Delta y = \\delta $$\n",
    "    <li> For our timestep, set $$ \\Delta t = \\frac{9}{40} \\frac{\\delta ^ 2}{max(D_u, D_v)} $$\n",
    "    <li> Use zero Neumann boundary conditions on all sides of the domain.\n",
    "</ul>\n",
    "\n",
    "The initial conditions and constants we are given are listed in the cell below, and correspond to the domain:\n",
    "\n",
    "<ul>\n",
    "    <li> A grid with dimensions 192 $ \\times $ 192 points\n",
    "    <li> Domain is the 5 m $ \\times $ 5 m\n",
    "    <li> Final time is 8000 s\n",
    "</ul>\n",
    "\n",
    "#### The Gray-Scott Model\n",
    "\n",
    "Lorena Barba introduces the Gray-Scott model in her tutorial. The important equations we get from it are:\n",
    "\n",
    "$$ \\frac{\\partial u}{\\partial t} = D_u \\nabla ^2 u - uv^2 + F(1 - u) $$\n",
    "$$ \\frac{\\partial v}{\\partial t} = D_v \\nabla ^2 v + uv^2 - (F + k)v $$\\\n",
    "\n",
    "where\n",
    "<ul> \n",
    "    <li>Species $U$ is added at a constant feed rate into the system.\n",
    "    <li>Two units of species V can 'turn' a unit of species U into V: $\\; 2V+U\\rightarrow 3V$\n",
    "    <li>There's a constant kill rate removing species $V$.\n",
    "</ul>"
   ]
  },
  {
   "cell_type": "code",
   "execution_count": 72,
   "metadata": {
    "collapsed": true
   },
   "outputs": [],
   "source": [
    "import numpy\n",
    "from matplotlib import pyplot\n",
    "import matplotlib.cm as cm\n",
    "%matplotlib inline"
   ]
  },
  {
   "cell_type": "code",
   "execution_count": 73,
   "metadata": {
    "collapsed": true
   },
   "outputs": [],
   "source": [
    "n = 192\n",
    "\n",
    "Du, Dv, F, k = 0.00016, 0.00008, 0.035, 0.065 # Bacteria 1 \n",
    "\n",
    "dh = 5/(n-1)\n",
    "\n",
    "T = 8000\n",
    "\n",
    "dt = .9 * dh**2 / (4*max(Du,Dv))\n",
    "\n",
    "nt = int(T/dt)"
   ]
  },
  {
   "cell_type": "markdown",
   "metadata": {},
   "source": [
    "#### Initial Conditions ####\n",
    "\n",
    "Also given to us in the problem is the initial conditions which contains two numpy arrays which hold the initial values for `U` and `V`, respectively."
   ]
  },
  {
   "cell_type": "code",
   "execution_count": 74,
   "metadata": {
    "collapsed": true
   },
   "outputs": [],
   "source": [
    "from devito import Operator, TimeData, x, y, t\n",
    "from sympy import Eq, solve\n",
    "from sympy.abc import h, s\n",
    "\n",
    "uvinitial = numpy.load('./data/uvinitial.npz')\n",
    "V = TimeData(name='V', shape=uvinitial['V'].shape, space_order=2)\n",
    "U = TimeData(name='U', shape=uvinitial['V'].shape, space_order=2) \n",
    "U.data[0,:,:] = uvinitial['U']\n",
    "V.data[0,:,:] = uvinitial['V']"
   ]
  },
  {
   "cell_type": "markdown",
   "metadata": {},
   "source": [
    "#### Devito Implementation ####\n",
    "\n",
    "Now let's begin to implement all of this in Devito.\n",
    "\n",
    "The first thing to do now that we have our timespace and our problem set up is to implement the Gray-Scott model as outlined in Lorena Barba's walkthrough."
   ]
  },
  {
   "cell_type": "code",
   "execution_count": 75,
   "metadata": {},
   "outputs": [],
   "source": [
    "# Set up initial variables\n",
    "dx = 2. / (n - 1)\n",
    "dy = dx\n",
    "\n",
    "# Initialize the equations and stencil calculations\n",
    "U_eq = Eq(Du * U.laplace - U * V * V + F * (1. - U) - U.dt, 0.)\n",
    "V_eq = Eq(Dv * V.laplace + U * V * V - (F + k) * V - V.dt, 0.)\n",
    "\n",
    "stencil_U = solve(U_eq, U.forward)[0]\n",
    "stencil_V = solve(V_eq, V.forward)[0]\n",
    "\n",
    "update_U = Eq(U.forward, stencil_U)\n",
    "update_V = Eq(V.forward, stencil_V)\n",
    "\n",
    "# Initialize Neumann boundary conditions for U and V\n",
    "bc_U = [Eq(U.indexed[t+1, n-1, y], U.indexed[t+1, n-2, y])]  # right\n",
    "bc_U += [Eq(U.indexed[t+1, x, n-1], U.indexed[t+1, x, n-2])] # top\n",
    "bc_U += [Eq(U.indexed[t+1, 0, y], U.indexed[t+1, 1, y])]       # left\n",
    "bc_U += [Eq(U.indexed[t+1, x, 0], U.indexed[t+1, x, 1])]       # bottom\n",
    "\n",
    "bc_V = [Eq(V.indexed[t+1, n-1, y], V.indexed[t+1, n-2, y])]  # right\n",
    "bc_V += [Eq(V.indexed[t+1, x, n-1], V.indexed[t+1, x, n-2])] # top\n",
    "bc_V += [Eq(V.indexed[t+1, 0, y], V.indexed[t+1, 1, y])]     # left\n",
    "bc_V += [Eq(V.indexed[t+1, x, 0], V.indexed[t+1, x, 1])]     # bottom"
   ]
  },
  {
   "cell_type": "code",
   "execution_count": 76,
   "metadata": {},
   "outputs": [
    {
     "name": "stderr",
     "output_type": "stream",
     "text": [
      "CustomCompiler: compiled /var/folders/b0/z7vc8ltj0131yqczz72tf_wm0000gp/T/devito-502/50c566a5d4d28e417dd27415bcc197ea2c93a337.c [0.24 s]\n",
      "=========================================================================================\n",
      "Section loop_y_1<8302,191> with OI=0.00 computed in 0.001 s [Perf: 0.00 GFlops/s]\n",
      "Section loop_x_2<8302,191> with OI=0.00 computed in 0.010 s [Perf: 0.00 GFlops/s]\n",
      "Section main<8302,191,191> with OI=1.73 computed in 0.547 s [Perf: 15.51 GFlops/s]\n",
      "=========================================================================================\n"
     ]
    }
   ],
   "source": [
    "# Create the Operator\n",
    "op = Operator([update_U] + [update_V] + bc_U + bc_V, subs={h:dx, s:dt},\n",
    "             dse=None, dle=None)\n",
    "\n",
    "# Execute for a number of timesteps using nt from earlier\n",
    "op(time=nt+1, U=U, V=V)"
   ]
  },
  {
   "cell_type": "code",
   "execution_count": 77,
   "metadata": {},
   "outputs": [
    {
     "ename": "TypeError",
     "evalue": "Image data can not convert to float",
     "output_type": "error",
     "traceback": [
      "\u001b[0;31m---------------------------------------------------------------------------\u001b[0m",
      "\u001b[0;31mTypeError\u001b[0m                                 Traceback (most recent call last)",
      "\u001b[0;32m<ipython-input-77-5030a2e55584>\u001b[0m in \u001b[0;36m<module>\u001b[0;34m()\u001b[0m\n\u001b[1;32m      1\u001b[0m \u001b[0mfig\u001b[0m \u001b[0;34m=\u001b[0m \u001b[0mpyplot\u001b[0m\u001b[0;34m.\u001b[0m\u001b[0mfigure\u001b[0m\u001b[0;34m(\u001b[0m\u001b[0mfigsize\u001b[0m\u001b[0;34m=\u001b[0m\u001b[0;34m(\u001b[0m\u001b[0;36m8\u001b[0m\u001b[0;34m,\u001b[0m\u001b[0;36m5\u001b[0m\u001b[0;34m)\u001b[0m\u001b[0;34m)\u001b[0m\u001b[0;34m\u001b[0m\u001b[0m\n\u001b[1;32m      2\u001b[0m \u001b[0mpyplot\u001b[0m\u001b[0;34m.\u001b[0m\u001b[0msubplot\u001b[0m\u001b[0;34m(\u001b[0m\u001b[0;36m121\u001b[0m\u001b[0;34m)\u001b[0m\u001b[0;34m\u001b[0m\u001b[0m\n\u001b[0;32m----> 3\u001b[0;31m \u001b[0mpyplot\u001b[0m\u001b[0;34m.\u001b[0m\u001b[0mimshow\u001b[0m\u001b[0;34m(\u001b[0m\u001b[0mU\u001b[0m\u001b[0;34m,\u001b[0m \u001b[0mcmap\u001b[0m \u001b[0;34m=\u001b[0m \u001b[0mcm\u001b[0m\u001b[0;34m.\u001b[0m\u001b[0mRdBu\u001b[0m\u001b[0;34m)\u001b[0m\u001b[0;34m\u001b[0m\u001b[0m\n\u001b[0m\u001b[1;32m      4\u001b[0m \u001b[0mpyplot\u001b[0m\u001b[0;34m.\u001b[0m\u001b[0mxticks\u001b[0m\u001b[0;34m(\u001b[0m\u001b[0;34m[\u001b[0m\u001b[0;34m]\u001b[0m\u001b[0;34m)\u001b[0m\u001b[0;34m,\u001b[0m \u001b[0mpyplot\u001b[0m\u001b[0;34m.\u001b[0m\u001b[0myticks\u001b[0m\u001b[0;34m(\u001b[0m\u001b[0;34m[\u001b[0m\u001b[0;34m]\u001b[0m\u001b[0;34m)\u001b[0m\u001b[0;34m;\u001b[0m\u001b[0;34m\u001b[0m\u001b[0m\n\u001b[1;32m      5\u001b[0m \u001b[0mpyplot\u001b[0m\u001b[0;34m.\u001b[0m\u001b[0msubplot\u001b[0m\u001b[0;34m(\u001b[0m\u001b[0;36m122\u001b[0m\u001b[0;34m)\u001b[0m\u001b[0;34m\u001b[0m\u001b[0m\n",
      "\u001b[0;32m/usr/local/lib/python3.6/site-packages/matplotlib/pyplot.py\u001b[0m in \u001b[0;36mimshow\u001b[0;34m(X, cmap, norm, aspect, interpolation, alpha, vmin, vmax, origin, extent, shape, filternorm, filterrad, imlim, resample, url, hold, data, **kwargs)\u001b[0m\n\u001b[1;32m   3155\u001b[0m                         \u001b[0mfilternorm\u001b[0m\u001b[0;34m=\u001b[0m\u001b[0mfilternorm\u001b[0m\u001b[0;34m,\u001b[0m \u001b[0mfilterrad\u001b[0m\u001b[0;34m=\u001b[0m\u001b[0mfilterrad\u001b[0m\u001b[0;34m,\u001b[0m\u001b[0;34m\u001b[0m\u001b[0m\n\u001b[1;32m   3156\u001b[0m                         \u001b[0mimlim\u001b[0m\u001b[0;34m=\u001b[0m\u001b[0mimlim\u001b[0m\u001b[0;34m,\u001b[0m \u001b[0mresample\u001b[0m\u001b[0;34m=\u001b[0m\u001b[0mresample\u001b[0m\u001b[0;34m,\u001b[0m \u001b[0murl\u001b[0m\u001b[0;34m=\u001b[0m\u001b[0murl\u001b[0m\u001b[0;34m,\u001b[0m \u001b[0mdata\u001b[0m\u001b[0;34m=\u001b[0m\u001b[0mdata\u001b[0m\u001b[0;34m,\u001b[0m\u001b[0;34m\u001b[0m\u001b[0m\n\u001b[0;32m-> 3157\u001b[0;31m                         **kwargs)\n\u001b[0m\u001b[1;32m   3158\u001b[0m     \u001b[0;32mfinally\u001b[0m\u001b[0;34m:\u001b[0m\u001b[0;34m\u001b[0m\u001b[0m\n\u001b[1;32m   3159\u001b[0m         \u001b[0max\u001b[0m\u001b[0;34m.\u001b[0m\u001b[0m_hold\u001b[0m \u001b[0;34m=\u001b[0m \u001b[0mwashold\u001b[0m\u001b[0;34m\u001b[0m\u001b[0m\n",
      "\u001b[0;32m/usr/local/lib/python3.6/site-packages/matplotlib/__init__.py\u001b[0m in \u001b[0;36minner\u001b[0;34m(ax, *args, **kwargs)\u001b[0m\n\u001b[1;32m   1896\u001b[0m                     warnings.warn(msg % (label_namer, func.__name__),\n\u001b[1;32m   1897\u001b[0m                                   RuntimeWarning, stacklevel=2)\n\u001b[0;32m-> 1898\u001b[0;31m             \u001b[0;32mreturn\u001b[0m \u001b[0mfunc\u001b[0m\u001b[0;34m(\u001b[0m\u001b[0max\u001b[0m\u001b[0;34m,\u001b[0m \u001b[0;34m*\u001b[0m\u001b[0margs\u001b[0m\u001b[0;34m,\u001b[0m \u001b[0;34m**\u001b[0m\u001b[0mkwargs\u001b[0m\u001b[0;34m)\u001b[0m\u001b[0;34m\u001b[0m\u001b[0m\n\u001b[0m\u001b[1;32m   1899\u001b[0m         \u001b[0mpre_doc\u001b[0m \u001b[0;34m=\u001b[0m \u001b[0minner\u001b[0m\u001b[0;34m.\u001b[0m\u001b[0m__doc__\u001b[0m\u001b[0;34m\u001b[0m\u001b[0m\n\u001b[1;32m   1900\u001b[0m         \u001b[0;32mif\u001b[0m \u001b[0mpre_doc\u001b[0m \u001b[0;32mis\u001b[0m \u001b[0;32mNone\u001b[0m\u001b[0;34m:\u001b[0m\u001b[0;34m\u001b[0m\u001b[0m\n",
      "\u001b[0;32m/usr/local/lib/python3.6/site-packages/matplotlib/axes/_axes.py\u001b[0m in \u001b[0;36mimshow\u001b[0;34m(self, X, cmap, norm, aspect, interpolation, alpha, vmin, vmax, origin, extent, shape, filternorm, filterrad, imlim, resample, url, **kwargs)\u001b[0m\n\u001b[1;32m   5122\u001b[0m                               resample=resample, **kwargs)\n\u001b[1;32m   5123\u001b[0m \u001b[0;34m\u001b[0m\u001b[0m\n\u001b[0;32m-> 5124\u001b[0;31m         \u001b[0mim\u001b[0m\u001b[0;34m.\u001b[0m\u001b[0mset_data\u001b[0m\u001b[0;34m(\u001b[0m\u001b[0mX\u001b[0m\u001b[0;34m)\u001b[0m\u001b[0;34m\u001b[0m\u001b[0m\n\u001b[0m\u001b[1;32m   5125\u001b[0m         \u001b[0mim\u001b[0m\u001b[0;34m.\u001b[0m\u001b[0mset_alpha\u001b[0m\u001b[0;34m(\u001b[0m\u001b[0malpha\u001b[0m\u001b[0;34m)\u001b[0m\u001b[0;34m\u001b[0m\u001b[0m\n\u001b[1;32m   5126\u001b[0m         \u001b[0;32mif\u001b[0m \u001b[0mim\u001b[0m\u001b[0;34m.\u001b[0m\u001b[0mget_clip_path\u001b[0m\u001b[0;34m(\u001b[0m\u001b[0;34m)\u001b[0m \u001b[0;32mis\u001b[0m \u001b[0;32mNone\u001b[0m\u001b[0;34m:\u001b[0m\u001b[0;34m\u001b[0m\u001b[0m\n",
      "\u001b[0;32m/usr/local/lib/python3.6/site-packages/matplotlib/image.py\u001b[0m in \u001b[0;36mset_data\u001b[0;34m(self, A)\u001b[0m\n\u001b[1;32m    594\u001b[0m         if (self._A.dtype != np.uint8 and\n\u001b[1;32m    595\u001b[0m                 not np.can_cast(self._A.dtype, np.float)):\n\u001b[0;32m--> 596\u001b[0;31m             \u001b[0;32mraise\u001b[0m \u001b[0mTypeError\u001b[0m\u001b[0;34m(\u001b[0m\u001b[0;34m\"Image data can not convert to float\"\u001b[0m\u001b[0;34m)\u001b[0m\u001b[0;34m\u001b[0m\u001b[0m\n\u001b[0m\u001b[1;32m    597\u001b[0m \u001b[0;34m\u001b[0m\u001b[0m\n\u001b[1;32m    598\u001b[0m         if (self._A.ndim not in (2, 3) or\n",
      "\u001b[0;31mTypeError\u001b[0m: Image data can not convert to float"
     ]
    },
    {
     "data": {
      "image/png": "[encoded data removed]",
      "text/plain": [
       "<matplotlib.figure.Figure at 0x10bad6a90>"
      ]
     },
     "metadata": {},
     "output_type": "display_data"
    }
   ],
   "source": [
    "fig = pyplot.figure(figsize=(8,5))\n",
    "pyplot.subplot(121)\n",
    "pyplot.imshow(U, cmap = cm.RdBu)\n",
    "pyplot.xticks([]), pyplot.yticks([]);\n",
    "pyplot.subplot(122)\n",
    "pyplot.imshow(V, cmap = cm.RdBu)\n",
    "pyplot.xticks([]), pyplot.yticks([]);"
   ]
  },
  {
   "cell_type": "markdown",
   "metadata": {},
   "source": [
    "#### References ####\n",
    "<ul> \n",
    "    <li> Reaction-diffusion model, by Lorena Barba https://github.com/numerical-mooc/numerical-mooc/blob/master/lessons/04_spreadout/04_06_Reaction_Diffusion.ipynb\n",
    "    <li> Pattern Parameters from http://www.aliensaint.com/uo/java/rd/\n",
    "    <li> Pearson, J. E. (1993). Complex patterns in a simple system, Science, Vol. 261(5118), 189-192 // PDF from nd.edu.\n",
    "    <li> Reaction-diffusion tutorial, by Karl Sims http://www.karlsims.com/rd.html\n",
    "</ul>"
   ]
  }
 ],
 "metadata": {
  "kernelspec": {
   "display_name": "Python 3",
   "language": "python",
   "name": "python3"
  },
  "language_info": {
   "codemirror_mode": {
    "name": "ipython",
    "version": 3
   },
   "file_extension": ".py",
   "mimetype": "text/x-python",
   "name": "python",
   "nbconvert_exporter": "python",
   "pygments_lexer": "ipython3",
   "version": "3.6.1"
  }
 },
 "nbformat": 4,
 "nbformat_minor": 2
}
