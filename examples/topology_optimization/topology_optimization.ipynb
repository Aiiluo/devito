{
 "cells": [
  {
   "cell_type": "markdown",
   "metadata": {},
   "source": [
    "### Topology Optimization\n",
    "\n",
    "Let's take a look at a much more developed application of Devito. Here, we're going to be using Devito to solve some <a href=\"https://en.wikipedia.org/wiki/Topology_optimization\">topology optimization</a> problems. These are the type of problems that Devito is well-suited for. Specifically, we'll be looking at an example that dolfin-adjoint looks at <a href=\"http://www.dolfin-adjoint.org/en/latest/documentation/poisson-topology/poisson-topology.html\">here</a>, and rewriting it with Devito. Their example originally comes from <a href=\"Topology optimization of heat conduction problems using the finite volume method\">Topology optimization of heat conduction problems using the finite volume method</a> by A. Gersborg-Hansen, M.P. Bendsøe, and O. Sigmund, which we'll reference in this article as \"the paper\".\n",
    "\n",
    "Let's take look at what we want to produce, so we know where we're headed and what to compare ourselves against. We'll take the first of the test problems from the paper. Although we can't show it up here in this notebook, a quick glance at the paper itself shows that the team produced dentrite-like shapes throughout the structure when the boundary conditions for the left and top sides have the condition\n",
    "\n",
    "$$ T = 0 $$\n",
    "\n",
    "and the bottom and right sides have the condition \n",
    "\n",
    "$$ (k\\Del T) \\dot \\textbf{n}=0 $$\n",
    "\n",
    "We'll take the same conditions, and see if using the same equations, we can produce the same results by just working with Devito."
   ]
  },
  {
   "cell_type": "code",
   "execution_count": null,
   "metadata": {
    "collapsed": true
   },
   "outputs": [],
   "source": [
    "from devito import Operator, TimeData, left, x, y\n",
    "from matplotlib import pyplot\n",
    "from scipy import integrate\n",
    "import numpy\n",
    "\n",
    "from devito.finite_difference import first derivative, left, right\n",
    "\n",
    "# VARIABLE DECLARATIONS\n",
    "\n",
    "# Create the 2d space for our problem\n",
    "nx = 41\n",
    "ny = 41\n",
    "nt = 500\n",
    "dx = 2. / (nx - 1) \n",
    "dy = 2. / (ny - 1)\n",
    "x = numpy.linspace(0, 2, nx)\n",
    "y = numpy.linspace(0, 2, ny)\n",
    "X, Y = numpy.meshgrid(x, y)\n",
    "\n",
    "# Initialize the TimeData object 'u'. TODO: Do we need this?\n",
    "u = TimeData(name='u', shape=(nx,ny)) \n",
    "u.data.fill(0.)\n",
    "\n",
    "# Define equations we'll use throughout our code\n",
    "del_op = Del() # TODO: Check this usage of Del. Could be .gradient?\n",
    "heat_flux = Eq(k * del_op(T)) # We'll use this as an abbreviation later\n",
    "\n",
    "# TODO: Define other variables for the problem\n",
    "temp = 0.\n",
    "heat_conduction = 0.\n",
    "vol_heat_source = 0.\n",
    "\n",
    "# This is the Lagrange multiplier, lambda\n",
    "lagrange_mult = 0."
   ]
  },
  {
   "cell_type": "markdown",
   "metadata": {},
   "source": [
    "Now we have a 2d space that we can work with.\n",
    "\n",
    "Again, we now take equations from the paper we're looking at, giving us the following:\n",
    "\n",
    "$$ \\int_{\\Omega_e} (\\nabla \\cdot (k \\nabla T) + f) = 0 $$\n",
    "$$ \\implies \\int_{\\partial \\Omega_e} (k \\nabla T) \\cdot \\mathbf{n} + \\int_{\\Omega_e} f = 0 \\ \\forall_e $$\n",
    "\n",
    "$$"
   ]
  },
  {
   "cell_type": "code",
   "execution_count": null,
   "metadata": {
    "collapsed": true
   },
   "outputs": [],
   "source": [
    "# SET UP THE PROBLEM\n",
    "\n",
    "# Dirichlet boundary conditions\n",
    "bc_u = [Eq(x.indexed[t+1, 0, y], 0.)]      # left\n",
    "bc_u += [Eq(x.indexed[t+1, x, ny-1], 0.)]  # top\n",
    "\n",
    "bc_u += [Eq(x.indexed[t+1, nx-1, y], 0.)]  # right\n",
    "bc_u += [Eq(x.indexed[t+1, x, 0], 0.)]     # bottom\n",
    "\n",
    "# Neumann boundary conditions\n",
    "\n",
    "# Cost_function eqautions (these are equivalent)\n",
    "cost_function1 = Eq(integrate(vol_heat_source * temp))\n",
    "cost_function2 = Eq(integrate(del_op(temp).dot(heat_flux)))\n",
    "\n",
    "# TODO\n",
    "# unitvec\n",
    "# equations\n",
    "\n"
   ]
  },
  {
   "cell_type": "code",
   "execution_count": null,
   "metadata": {
    "collapsed": true
   },
   "outputs": [],
   "source": []
  }
 ],
 "metadata": {
  "kernelspec": {
   "display_name": "Python 3",
   "language": "python",
   "name": "python3"
  },
  "language_info": {
   "codemirror_mode": {
    "name": "ipython",
    "version": 3
   },
   "file_extension": ".py",
   "mimetype": "text/x-python",
   "name": "python",
   "nbconvert_exporter": "python",
   "pygments_lexer": "ipython3",
   "version": "3.6.1"
  }
 },
 "nbformat": 4,
 "nbformat_minor": 2
}
